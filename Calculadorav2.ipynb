{
  "nbformat": 4,
  "nbformat_minor": 0,
  "metadata": {
    "colab": {
      "provenance": []
    },
    "kernelspec": {
      "name": "python3",
      "display_name": "Python 3"
    },
    "language_info": {
      "name": "python"
    }
  },
  "cells": [
    {
      "cell_type": "code",
      "source": [],
      "metadata": {
        "id": "zlginfLfF4d8"
      },
      "execution_count": null,
      "outputs": []
    },
    {
      "cell_type": "markdown",
      "source": [
        "## Función para calcular e\n",
        "\n",
        "\n",
        "\n"
      ],
      "metadata": {
        "id": "kYtVwXmxF6Ql"
      }
    },
    {
      "cell_type": "code",
      "source": [
        "def calcular_e(aproximaciones):\n",
        "    e_aproximado = 0.0\n",
        "    for i in range(aproximaciones):\n",
        "        e_aproximado += 1 / factorial(i)\n",
        "    return e_aproximado\n",
        "def factorial(n):\n",
        "    if n == 0:\n",
        "        return 1\n",
        "    else:\n",
        "        return n * factorial(n-1)"
      ],
      "metadata": {
        "id": "5Ft5m_owL_sx"
      },
      "execution_count": null,
      "outputs": []
    },
    {
      "cell_type": "markdown",
      "source": [
        "# **Calculadora**"
      ],
      "metadata": {
        "id": "P9q3yuxJF-Pn"
      }
    },
    {
      "cell_type": "code",
      "source": [
        "class Calculadora:\n",
        "    def suma(a, b):\n",
        "        return a + b\n",
        "    \n",
        "    def resta(a, b):\n",
        "        return a - b\n",
        "    \n",
        "    def multiplicacion( a, b):\n",
        "        return a * b\n",
        "    \n",
        "    def division(a, b):\n",
        "        if b != 0:\n",
        "            return a / b\n",
        "        else:\n",
        "            raise ValueError(\"No se puede dividir entre cero.\")\n",
        "    \n",
        "    def raiz_cuadrada(a):\n",
        "        if a >= 0:\n",
        "         raiz = a ** 0.5  \n",
        "         return raiz \n",
        "        else:\n",
        "            raise ValueError(\"No se puede calcular la raíz cuadrada de un número negativo.\")\n",
        "    \n",
        "    def exponencial(x):\n",
        "        return calcular_e(10)**x"
      ],
      "metadata": {
        "id": "rfZx5lIHJV6b"
      },
      "execution_count": null,
      "outputs": []
    },
    {
      "cell_type": "markdown",
      "source": [
        "## **Pruebas unitarias Suma**"
      ],
      "metadata": {
        "id": "swE3hzS2NH3B"
      }
    },
    {
      "cell_type": "code",
      "source": [
        "def test_suma():\n",
        "# Suma dos positivos\n",
        "  assert Calculadora.suma(4,5) == 9 , \"La suma de estos 2 positivos tiene que dar 9\"\n",
        "# Suma negativo con positivo y resultado positivo \n",
        "  assert Calculadora.suma(-4,11) == 7 , \"La suma de este negativo con este positivo debe dar 7\"\n",
        "# Suma negativo con positivo y resultado negativo\n",
        "  assert Calculadora.suma(-11,4) == -7 , \"La suma de este negativo con este positivo debe dar -7\"\n",
        "# Suma positivo con negativo y resultado positivo\n",
        "  assert Calculadora.suma(4,-1) == 3 , \"La suma de este positivo con este negativo debe dar 3\"   \n",
        "# Suma positivo con negativo y resultado negativo \n",
        "  assert Calculadora.suma(4,-5) == -1 , \"La suma de este positivo con este negativo debe dar -1\"\n",
        "# Propiedad Suma de 0 y de la identidad aditiva\n",
        "  assert Calculadora.suma(2,0) == 2 , \" La suma de 2 + 0 debe dar 0\"\n",
        "# Propiedad conmutativa  \n",
        "  suma1 = Calculadora.suma(10,5)\n",
        "  suma2 = Calculadora.suma(5,10)\n",
        "  assert suma1 == suma2 , \"Si las dos sumas dan lo mismo \"\n",
        "# Propiedad asociativa\n",
        "  suma3 = Calculadora.suma(10,5)\n",
        "  suma4 = Calculadora.suma(10,3)\n",
        "  sumatotal1 = Calculadora.suma(suma3,3)\n",
        "  sumatotal2 = Calculadora.suma(suma4,5)\n",
        "  assert sumatotal1 == sumatotal2 , \"La suma total tiene que dar igual para cumplir con la propiedad asociativa\"\n",
        "  "
      ],
      "metadata": {
        "id": "Le4psd79NMT7"
      },
      "execution_count": null,
      "outputs": []
    },
    {
      "cell_type": "code",
      "source": [
        "test_suma()"
      ],
      "metadata": {
        "id": "X9dDiWylUtRt"
      },
      "execution_count": null,
      "outputs": []
    },
