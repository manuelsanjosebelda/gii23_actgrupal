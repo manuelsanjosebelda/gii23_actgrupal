{
  "cells": [
    {
      "attachments": {},
      "cell_type": "markdown",
      "metadata": {
        "id": "kYtVwXmxF6Ql"
      },
      "source": [
        "## Función para calcular e\n",
        "\n",
        "\n",
        "\n"
      ]
    },
    {
      "cell_type": "code",
      "execution_count": null,
      "metadata": {
        "id": "5Ft5m_owL_sx"
      },
      "outputs": [],
      "source": [
        "def calcular_e(aproximaciones):\n",
        "    e_aproximado = 0.0\n",
        "    for i in range(aproximaciones):\n",
        "        e_aproximado += 1 / factorial(i)\n",
        "    return e_aproximado\n",
        "def factorial(n):\n",
        "    if n == 0:\n",
        "        return 1\n",
        "    else:\n",
        "        return n * factorial(n-1)"
      ]
    },
    {
      "attachments": {},
      "cell_type": "markdown",
      "metadata": {
        "id": "P9q3yuxJF-Pn"
      },
      "source": [
        "# **Calculadora**"
      ]
    },
    {
      "cell_type": "code",
      "execution_count": null,
      "metadata": {
        "id": "rfZx5lIHJV6b"
      },
      "outputs": [],
      "source": [
        "class Calculadora:\n",
        "    def suma(a, b):\n",
        "        return a + b\n",
        "    \n",
        "    def resta(a, b):\n",
        "        return a - b\n",
        "    \n",
        "    def multiplicacion( a, b):\n",
        "        return a * b\n",
        "    \n",
        "    def division(a, b):\n",
        "        if b != 0:\n",
        "            return a / b\n",
        "        else:\n",
        "            raise ValueError(\"No se puede dividir entre cero.\")\n",
        "    \n",
        "    def raiz_cuadrada(a):\n",
        "        if a >= 0:\n",
        "         raiz = a ** 0.5  \n",
        "         return raiz \n",
        "        else:\n",
        "            raise ValueError(\"No se puede calcular la raíz cuadrada de un número negativo.\")\n",
        "    \n",
        "    def exponencial(x):\n",
        "        return calcular_e(10)**x"
      ]
    }
  ],
  "metadata": {
    "colab": {
      "provenance": []
    },
    "kernelspec": {
      "display_name": "Python 3",
      "name": "python3"
    },
    "language_info": {
      "name": "python"
    }
  },
  "nbformat": 4,
  "nbformat_minor": 0
}
