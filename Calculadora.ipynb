{
  "nbformat": 4,
  "nbformat_minor": 0,
  "metadata": {
    "colab": {
      "provenance": []
    },
    "kernelspec": {
      "name": "python3",
      "display_name": "Python 3"
    },
    "language_info": {
      "name": "python"
    }
  },
  "cells": [
    {
      "cell_type": "code",
      "source": [],
      "metadata": {
        "id": "zlginfLfF4d8"
      },
      "execution_count": null,
      "outputs": []
    },
    {
      "cell_type": "markdown",
      "source": [
        "## Función para calcular e\n",
        "\n",
        "\n",
        "\n"
      ],
      "metadata": {
        "id": "kYtVwXmxF6Ql"
      }
    },
    {
      "cell_type": "code",
      "source": [
        "def calcular_e(aproximaciones):\n",
        "    e_aproximado = 0.0\n",
        "    for i in range(aproximaciones):\n",
        "        e_aproximado += 1 / factorial(i)\n",
        "    return e_aproximado\n",
        "def factorial(n):\n",
        "    if n == 0:\n",
        "        return 1\n",
        "    else:\n",
        "        return n * factorial(n-1)"
      ],
      "metadata": {
        "id": "5Ft5m_owL_sx"
      },
      "execution_count": null,
      "outputs": []
    },
    {
      "cell_type": "markdown",
      "source": [
        "# **Calculadora**"
      ],
      "metadata": {
        "id": "P9q3yuxJF-Pn"
      }
    },
    {
      "cell_type": "code",
      "source": [
        "class Calculadora:\n",
        "    def suma(a, b):\n",
        "        return a + b\n",
        "    \n",
        "    def resta(a, b):\n",
        "        return a - b\n",
        "    \n",
        "    def multiplicacion( a, b):\n",
        "        return a * b\n",
        "    \n",
        "    def division(a, b):\n",
        "        if b != 0:\n",
        "            return a / b\n",
        "        else:\n",
        "            raise ValueError(\"No se puede dividir entre cero.\")\n",
        "    \n",
        "    def raiz_cuadrada(a):\n",
        "        if a >= 0:\n",
        "         raiz = a ** 0.5  \n",
        "         return raiz \n",
        "        else:\n",
        "            raise ValueError(\"No se puede calcular la raíz cuadrada de un número negativo.\")\n",
        "    \n",
        "    def exponencial(x):\n",
        "        return calcular_e(10)**x"
      ],
      "metadata": {
        "id": "rfZx5lIHJV6b"
      },
      "execution_count": null,
      "outputs": []
    },
    {
      "cell_type": "markdown",
      "source": [
        "## **Pruebas unitarias Suma**"
      ],
      "metadata": {
        "id": "swE3hzS2NH3B"
      }
    },
    {
      "cell_type": "code",
      "source": [
        "def test_suma():\n",
        "# Suma dos positivos\n",
        "  assert Calculadora.suma(4,5) == 9 , \"La suma de estos 2 positivos tiene que dar 9\"\n",
        "# Suma negativo con positivo y resultado positivo \n",
        "  assert Calculadora.suma(-4,11) == 7 , \"La suma de este negativo con este positivo debe dar 7\"\n",
        "# Suma negativo con positivo y resultado negativo\n",
        "  assert Calculadora.suma(-11,4) == -7 , \"La suma de este negativo con este positivo debe dar -7\"\n",
        "# Suma positivo con negativo y resultado positivo\n",
        "  assert Calculadora.suma(4,-1) == 3 , \"La suma de este positivo con este negativo debe dar 3\"   \n",
        "# Suma positivo con negativo y resultado negativo \n",
        "  assert Calculadora.suma(4,-5) == -1 , \"La suma de este positivo con este negativo debe dar -1\"\n",
        "# Propiedad Suma de 0 y de la identidad aditiva\n",
        "  assert Calculadora.suma(2,0) == 2 , \" La suma de 2 + 0 debe dar 0\"\n",
        "# Propiedad conmutativa  \n",
        "  suma1 = Calculadora.suma(10,5)\n",
        "  suma2 = Calculadora.suma(5,10)\n",
        "  assert suma1 == suma2 , \"Si las dos sumas dan lo mismo \"\n",
        "# Propiedad asociativa\n",
        "  suma3 = Calculadora.suma(10,5)\n",
        "  suma4 = Calculadora.suma(10,3)\n",
        "  sumatotal1 = Calculadora.suma(suma3,3)\n",
        "  sumatotal2 = Calculadora.suma(suma4,5)\n",
        "  assert sumatotal1 == sumatotal2 , \"La suma total tiene que dar igual para cumplir con la propiedad asociativa\"\n",
        "  "
      ],
      "metadata": {
        "id": "Le4psd79NMT7"
      },
      "execution_count": null,
      "outputs": []
    },
    {
      "cell_type": "code",
      "source": [
        "test_suma()"
      ],
      "metadata": {
        "id": "X9dDiWylUtRt"
      },
      "execution_count": null,
      "outputs": []
    },
    {
      "cell_type": "markdown",
      "source": [
        "## **Pruebas unitarias Resta**"
      ],
      "metadata": {
        "id": "rm4HVGowNWx5"
      }
    },
    {
      "cell_type": "code",
      "source": [
        "def test_resta():\n",
        "  #Resta numero positivo con positivo resultado positivo\n",
        "  assert Calculadora.resta(5,4)==1 , \"La resta entre 5 y 4 debe ser 1\"\n",
        "\n",
        "  #Propiedad de la inversa aditiva\n",
        "  assert Calculadora.resta(5,5)==0, \"La resta entre 5 y 5 por la propiedad de la inversa aditiva debe ser 0\"\n",
        "\n",
        "  #Resta numero positivo con positivo resultado negativo\n",
        "  assert Calculadora.resta(5,6)==-1, \"La resta entre 5 y 6 debe ser -1\"\n",
        "\n",
        "  #Resta numero positivo con negativo resultado positivo\n",
        "  assert Calculadora.resta(5,-4)==9 , \"La resta entre 5 y -4 debe ser 9\"\n",
        "\n",
        "  #Resta numero negativo con positivo resultado negativo\n",
        "  assert Calculadora.resta(-5,4)==-9, \"La resta entre -5 y 4 debe ser -9\"\n",
        "\n",
        "  #Resta numero negativo con negativo resultado positivo\n",
        "  assert Calculadora.resta(-5,-6)==1, \"La resta entre -5 y -6 debe ser 1\"\n",
        "\n",
        "  #Resta numero negativo con negativo resultado neutro\n",
        "  assert Calculadora.resta(-5,-5)==0, \"La resta entre -5 y -5 debe ser 0\"\n",
        "\n",
        "  #Propiedad de la resta de cero\n",
        "  assert Calculadora.resta(-5,-4)==-1, \"La resta entre -5 y -4 debe ser -1\"\n",
        "\n",
        "  #Propiedad de la resta de cero\n",
        "  assert Calculadora.resta(5,0)==5, \"La resta entre 5 y 0 es 5\"\n",
        "\n",
        "  #Resta numero zero con positivo resultado negativo\n",
        "  assert Calculadora.resta(0,5)==-5, \"La resta entre 0 y 5 debe ser -5\"\n",
        "\n",
        "  #Resta numero zero con negativo resultado positivo\n",
        "  assert Calculadora.resta(0,-5)==5, \"La resta entre 0 y -5 debe ser 5\"\n"
      ],
      "metadata": {
        "id": "4UEgW58CN53M"
      },
      "execution_count": null,
      "outputs": []
    },
    {
      "cell_type": "markdown",
      "source": [
        "## **Pruebas unitarias Multipilicación**\n"
      ],
      "metadata": {
        "id": "Mk8DBCdb325Y"
      }
    },
    {
      "cell_type": "code",
      "source": [
        "def test_multiplicacion():\n",
        "    # Multiplicacion numero positivo con positivo resultado positivo\n",
        "    assert Calculadora.multiplicacion(5,3)==15, \"La multiplicacion entre 5 y 3 debe ser 15\"\n",
        "\n",
        "    # Multiplicacion numero positivo con negativo resultado negativo\n",
        "    assert Calculadora.multiplicacion(5,-3)==-15, \"La multiplicacion entre 5 y -3 debe ser -15\"\n",
        "\n",
        "    #Multiplicacion numero negativo con positivo resultado negativo\n",
        "    assert Calculadora.multiplicacion(-4,4)==-16, \"La multiplicacion entre -4 y 4 debe ser -16\"\n",
        "\n",
        "    # Multiplicacion numero negativo con negativo resultado positivo\n",
        "    assert Calculadora.multiplicacion(-5,-4)==20, \"La multiplicacion entre -5 y -4 debe ser 20\"\n",
        "\n",
        "    # Multiplicacion numero negativo con negativo resultado negativo\n",
        "    assert Calculadora.multiplicacion(-5,-4)==20, \"La multiplicacion entre -5 y -4 debe ser 20\"\n",
        "\n",
        "    # Multiplicacion numero positivo con numero neutro resultado positivo\n",
        "    assert Calculadora.multiplicacion(6,1)==6, \"La multiplicacion entre 6 y 1 debe ser 6\"\n",
        "\n",
        "    # Multiplicacion numero negativo con numero neutro resultado positivo\n",
        "    assert Calculadora.multiplicacion(-8,1)==-8, \"La multiplicacion entre -8 y 1 debe ser -8\"\n",
        "\n",
        "    # Multiplicacion numero positivo con numero zero resultado positivo\n",
        "    assert Calculadora.multiplicacion(9,0)==0, \"La multiplicacion entre 9 y 0 debe ser 0\"\n",
        "\n",
        "    # Multiplicacion numero negativo con numero zero resultado positivo\n",
        "    assert Calculadora.multiplicacion(-3,0)==0, \"La multiplicacion entre -3 y 0 debe ser 0\"\n",
        "\n",
        "\n"
      ],
      "metadata": {
        "id": "dG9nM3Ua3-Dg"
      },
      "execution_count": null,
      "outputs": []
    },
    {
      "cell_type": "markdown",
      "source": [
        "## **Pruebas unitarias División**"
      ],
      "metadata": {
        "id": "BZ9TUXDtN5L8"
      }
    },
    {
      "cell_type": "code",
      "source": [
        "def test_division():\n",
        "  # División de un entero positivo entre otro entero positivo que es divisor\n",
        "  assert Calculadora.division(20,5) == 4 , \"El cociente de la división debe ser 4\"\n",
        "  # Division de un entero positivo entre un entero negativo que es divisor\n",
        "  assert Calculadora.division(20,-5) == -4 , \"El cociente de la división debe ser -4\"\n",
        "  # Division de un entero negativo entre un entero positivo que es divisor\n",
        "  assert Calculadora.division(-30,6) == -5 , \"El cociente de la división de -5\"\n",
        "  # División de dos enteros negativos que es divisor\n",
        "  assert Calculadora.division(-25,-25) == 1 , \"El cociente de la división debe ser 1\"\n",
        "  # División de un entero positivo entre un entero positivo que no es divisor \n",
        "  assert Calculadora.division(1,4) == 0.25 , \"El cociente de la división debe ser 0.25\"\n",
        "  # División de un entero positivo entre un entero negativo que no es divisor\n",
        "  assert Calculadora.division(1,-4) == -0.25 , \"El cociente de la división debe ser -0.25\"\n",
        "  # División de un entero negativo entre un entero positivo que no es divisor\n",
        "  assert Calculadora.division(-1,4) == -0.25 , \"El cociente de la división debe ser 0.25\"\n",
        "  # Propiedad inverso multiplicativo\n",
        "  assert Calculadora.division(30,30) == 1 , \"El cociente de la división debe ser 1\"\n",
        "  # Propiedad de la identidad multiplicativa\n",
        "  assert Calculadora.division(30,1) == 30 , \"El cociente de la división deber ser 30\""
      ],
      "metadata": {
        "id": "j-5eHqT0615d"
      },
      "execution_count": null,
      "outputs": []
    },
    {
      "cell_type": "code",
      "source": [
        "test_division()"
      ],
      "metadata": {
        "id": "7mPaHVNQE9ex"
      },
      "execution_count": null,
      "outputs": []
    },
    {
      "cell_type": "markdown",
      "source": [
        "## **Pruebas unitarias Raiz Cuadrada**"
      ],
      "metadata": {
        "id": "K_xklUrqFN0V"
      }
    },
    {
      "cell_type": "code",
      "source": [
        "def test_raiz_cuadrada():\n",
        "  #Propiedad basica\n",
        "  assert Calculadora.raiz_cuadrada(25)==5 , \"La raiz cuadradad de 25 debe ser 5\"\n",
        "\n",
        "  #Propiedad de la multiplicacion\n",
        "  assert Calculadora.raiz_cuadrada(4*9)==6 , \"La raiz cuadradad de 4 es 2 y la de 9 es 3. Debe ser 6\"\n",
        "\n",
        "  #Propiedad de la division\n",
        "  assert Calculadora.raiz_cuadrada(16/4)==2 , \"La raiz cuadradad de 16 es 4 y la de 4 es 2 es lo mismo que 4 entre 2. Debe ser 2\"\n",
        "\n",
        "  #Propiedad de la potencia\n",
        "  assert Calculadora.raiz_cuadrada(3**2)==3 , \"La raiz cuadradad de 3^2 debe ser 3\"\n",
        "\n",
        "  #Propiedad de la raiz dentro de la raiz\n",
        "  assert Calculadora.raiz_cuadrada(Calculadora.raiz_cuadrada(16))==2 , \"La raiz cuadradad de 16 debe ser 4 y la raiz de 4 es 2\""
      ],
      "metadata": {
        "id": "osimV799FXkg"
      },
      "execution_count": null,
      "outputs": []
    },
    {
      "cell_type": "code",
      "source": [
        "test_raiz_cuadrada()"
      ],
      "metadata": {
        "id": "GeTn0dzcFbpT"
      },
      "execution_count": null,
      "outputs": []
    },
    {
      "cell_type": "markdown",
      "source": [
        "## **Pruebas unitarias Exponencial**"
      ],
      "metadata": {
        "id": "K9Uq095KFglp"
      }
    },
    {
      "cell_type": "code",
      "source": [
        "def test_exponencial():\n",
        "  #Propiedad exponente cero\n",
        "  assert Calculadora.exponencial(0)==1 , \"Cualquier numero elevado a 0 debe ser 1\"\n",
        "\n",
        "  #Propiedad multiplicacion\n",
        "  assert round(Calculadora.exponencial(2)*Calculadora.exponencial(3),2)==round(Calculadora.exponencial(2+3),2) , \"e^2 * e^3=e^(2+3)\"\n",
        "\n",
        "  #Propiedad division\n",
        "  assert round(Calculadora.exponencial(3)/Calculadora.exponencial(2),2)== round(Calculadora.exponencial(3-2),2) , \"e^3 / e^2=e^(3-2)\"\n",
        "\n",
        "  #Propiedad potenciación\n",
        "  assert round(Calculadora.exponencial(3)**2,2)==round(Calculadora.exponencial(3*2),2) , \"e^3^2 es lo mismo que e^(3*2) \"\n",
        "\n",
        "  #Propiedad exponente negativo\n",
        "  assert round(Calculadora.exponencial(-2),2)==round(1/Calculadora.exponencial(2),2) , \"e^-2 es lo mismo que 1/e^(2)\""
      ],
      "metadata": {
        "id": "1psLeRj1Foxh"
      },
      "execution_count": null,
      "outputs": []
    },
    {
      "cell_type": "code",
      "source": [
        "test_exponencial()"
      ],
      "metadata": {
        "id": "osaTz3XwFq7Y"
      },
      "execution_count": null,
      "outputs": []
    }
  ]
}